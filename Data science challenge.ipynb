{
 "cells": [
  {
   "cell_type": "markdown",
   "metadata": {},
   "source": [
    "## Section 1"
   ]
  },
  {
   "cell_type": "markdown",
   "metadata": {},
   "source": [
    "### Write a function that inputs a number and prints the multiplication table of that number"
   ]
  },
  {
   "cell_type": "code",
   "execution_count": 1,
   "metadata": {},
   "outputs": [
    {
     "name": "stdout",
     "output_type": "stream",
     "text": [
      "Input a number:12\n",
      "12 * 1 == 12\n",
      "12 * 2 == 24\n",
      "12 * 3 == 36\n",
      "12 * 4 == 48\n",
      "12 * 5 == 60\n",
      "12 * 6 == 72\n",
      "12 * 7 == 84\n",
      "12 * 8 == 96\n",
      "12 * 9 == 108\n",
      "12 * 10 == 120\n",
      "12 * 11 == 132\n",
      "12 * 12 == 144\n"
     ]
    }
   ],
   "source": [
    "# multiplication table function\n",
    "def func1():\n",
    "    ## enter a number for its multiplication table\n",
    "    n = int(input('Input a number:'))\n",
    "    for i in range(1,13):\n",
    "        print(f'{n} * {i} == {n*i}')\n",
    "func1()"
   ]
  },
  {
   "cell_type": "markdown",
   "metadata": {},
   "source": [
    "### Write a program to print twin primes less than 1000. If two consecutive odd numbers are both prime then they are known as twin primes"
   ]
  },
  {
   "cell_type": "code",
   "execution_count": 2,
   "metadata": {},
   "outputs": [
    {
     "name": "stdout",
     "output_type": "stream",
     "text": [
      "Input a number: 1000\n"
     ]
    },
    {
     "data": {
      "text/plain": [
       "[(3, 5),\n",
       " (5, 7),\n",
       " (11, 13),\n",
       " (17, 19),\n",
       " (29, 31),\n",
       " (41, 43),\n",
       " (59, 61),\n",
       " (71, 73),\n",
       " (101, 103),\n",
       " (107, 109),\n",
       " (137, 139),\n",
       " (149, 151),\n",
       " (179, 181),\n",
       " (191, 193),\n",
       " (197, 199),\n",
       " (227, 229),\n",
       " (239, 241),\n",
       " (269, 271),\n",
       " (281, 283),\n",
       " (311, 313),\n",
       " (347, 349),\n",
       " (419, 421),\n",
       " (431, 433),\n",
       " (461, 463),\n",
       " (521, 523),\n",
       " (569, 571),\n",
       " (599, 601),\n",
       " (617, 619),\n",
       " (641, 643),\n",
       " (659, 661),\n",
       " (809, 811),\n",
       " (821, 823),\n",
       " (827, 829),\n",
       " (857, 859),\n",
       " (881, 883)]"
      ]
     },
     "execution_count": 2,
     "metadata": {},
     "output_type": "execute_result"
    }
   ],
   "source": [
    "# function to obtain odd_number\n",
    "def odd_number():\n",
    "    odd = []\n",
    "    n = int(input('Input a number: '))\n",
    "    for i in range(2, n+1):\n",
    "        if i % 2 != 0:\n",
    "            odd.append(i)\n",
    "    return odd   \n",
    "\n",
    "## function to determine if a number is a prime\n",
    "def is_prime(a):\n",
    "    for j in range(2,int(a/2)+1):\n",
    "        if (a % j) == 0:\n",
    "            return False\n",
    "    else:\n",
    "        return True\n",
    "\n",
    "# function to obtain twinprime\n",
    "def twinprime():\n",
    "    twin_prime = []\n",
    "    odd = odd_number()\n",
    "    for i in range(len(odd)-1):\n",
    "        if is_prime(odd[i]) and is_prime(odd[i+1]):\n",
    "            twin_prime.append((odd[i], odd[i+1]))\n",
    "    return twin_prime\n",
    "twinprime()"
   ]
  },
  {
   "cell_type": "markdown",
   "metadata": {},
   "source": [
    "#### Write a program to find out the prime factors of a number. Example: prime factors of 56 -2, 2, 2, 7"
   ]
  },
  {
   "cell_type": "code",
   "execution_count": 3,
   "metadata": {},
   "outputs": [
    {
     "name": "stdout",
     "output_type": "stream",
     "text": [
      "Enter the number: 56\n"
     ]
    },
    {
     "data": {
      "text/plain": [
       "'56 - [2, 2, 2, 7]'"
      ]
     },
     "execution_count": 3,
     "metadata": {},
     "output_type": "execute_result"
    }
   ],
   "source": [
    "# function to obtain prime_factors of a number\n",
    "def prime_factors():\n",
    "    prime_factors = []\n",
    "    number = int(input('Enter the number: '))\n",
    "    value = number\n",
    "    ''' A number can itself be prime or if not, all its prime factors will be less than or equal to its int(number/2)+1'''\n",
    "    for i in range(2, int(number/2) +1):\n",
    "        if is_prime(i) and number % i == 0:\n",
    "            while (number% i) == 0:\n",
    "                prime_factors.append(i)\n",
    "                number/=i\n",
    "    return f'{value} - {prime_factors}'\n",
    "prime_factors()             "
   ]
  },
  {
   "cell_type": "markdown",
   "metadata": {},
   "source": [
    "### Write a program which can filter odd numbers in a list by using filter function"
   ]
  },
  {
   "cell_type": "code",
   "execution_count": 5,
   "metadata": {},
   "outputs": [
    {
     "name": "stdout",
     "output_type": "stream",
     "text": [
      "Enter the number: 19\n"
     ]
    },
    {
     "data": {
      "text/plain": [
       "[1, 3, 5, 7, 9, 11, 13, 15, 17, 19]"
      ]
     },
     "execution_count": 5,
     "metadata": {},
     "output_type": "execute_result"
    }
   ],
   "source": [
    "# function to filter odd numbers from a list\n",
    "def is_odd(value):\n",
    "    if value % 2 != 0:\n",
    "        return value\n",
    "def filter_odd():\n",
    "    number = int(input('Enter the number: '))\n",
    "    value = list(filter(is_odd, [i for i in range(number+1)]))\n",
    "    return value\n",
    "filter_odd()"
   ]
  },
  {
   "cell_type": "markdown",
   "metadata": {},
   "source": [
    "### Write a function prodDigits() that inputs a number and returns the product of digits of that number."
   ]
  },
  {
   "cell_type": "code",
   "execution_count": 7,
   "metadata": {},
   "outputs": [
    {
     "name": "stdout",
     "output_type": "stream",
     "text": [
      "Enter the number: 12345\n"
     ]
    },
    {
     "data": {
      "text/plain": [
       "120"
      ]
     },
     "execution_count": 7,
     "metadata": {},
     "output_type": "execute_result"
    }
   ],
   "source": [
    "# function to return product of digits of a number\n",
    "def prodDigits():\n",
    "    number = str(input('Enter the number: '))\n",
    "    prod = 1\n",
    "    # if the number is a unit, return the number\n",
    "    if len(number) == 1:\n",
    "        return int(number)\n",
    "    else:\n",
    "        for i in range(len(number)):\n",
    "            prod *= int(number[i])\n",
    "    return prod\n",
    "prodDigits()"
   ]
  },
  {
   "cell_type": "markdown",
   "metadata": {},
   "source": [
    "## Section 2"
   ]
  },
  {
   "cell_type": "markdown",
   "metadata": {},
   "source": [
    "### Write a NumPy program to convert a list of numeric values into a one-dimensional NumPy array."
   ]
  },
  {
   "cell_type": "code",
   "execution_count": 8,
   "metadata": {},
   "outputs": [
    {
     "name": "stdout",
     "output_type": "stream",
     "text": [
      "[ 12.23  13.32 100.    36.32]\n"
     ]
    }
   ],
   "source": [
    "# convert list to numpy\n",
    "import numpy as np\n",
    "Original_list = [12.23, 13.32, 100, 36.32]\n",
    "print(np.array(Original_list))"
   ]
  },
  {
   "cell_type": "markdown",
   "metadata": {},
   "source": [
    "### Write a NumPy program to create a 3x3 matrix with values ranging from 2 to 10."
   ]
  },
  {
   "cell_type": "code",
   "execution_count": 9,
   "metadata": {},
   "outputs": [
    {
     "name": "stdout",
     "output_type": "stream",
     "text": [
      "[[ 2  3  4]\n",
      " [ 5  6  7]\n",
      " [ 8  9 10]]\n"
     ]
    }
   ],
   "source": [
    "# reshape an array to required shape\n",
    "print(np.reshape(np.array(range(2, 11)), (3,3)))"
   ]
  },
  {
   "cell_type": "markdown",
   "metadata": {},
   "source": [
    "### Write a NumPy program to create a null vector of size 10 and update the sixth value to 11."
   ]
  },
  {
   "cell_type": "code",
   "execution_count": 10,
   "metadata": {},
   "outputs": [
    {
     "data": {
      "text/plain": [
       "array([ 0.,  0.,  0.,  0.,  0.,  0., 11.,  0.,  0.,  0.])"
      ]
     },
     "execution_count": 10,
     "metadata": {},
     "output_type": "execute_result"
    }
   ],
   "source": [
    "# function to update a null vector, its index and value\n",
    "def update(index= 6, value = 11 ):\n",
    "    arr = np.zeros((10,))\n",
    "    arr[index] = value\n",
    "    return arr\n",
    "update()"
   ]
  },
  {
   "cell_type": "code",
   "execution_count": null,
   "metadata": {},
   "outputs": [],
   "source": []
  }
 ],
 "metadata": {
  "kernelspec": {
   "display_name": "Python 3",
   "language": "python",
   "name": "python3"
  },
  "language_info": {
   "codemirror_mode": {
    "name": "ipython",
    "version": 3
   },
   "file_extension": ".py",
   "mimetype": "text/x-python",
   "name": "python",
   "nbconvert_exporter": "python",
   "pygments_lexer": "ipython3",
   "version": "3.8.5"
  }
 },
 "nbformat": 4,
 "nbformat_minor": 4
}
